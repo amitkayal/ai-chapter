{
  "nbformat": 4,
  "nbformat_minor": 0,
  "metadata": {
    "colab": {
      "name": "EVA4_Session_13_Assignment-2_YOLOv3_CustomDataset_Potholes.ipynb",
      "provenance": [],
      "collapsed_sections": [],
      "authorship_tag": "ABX9TyM/lCTrwA5d24bLc3TN/urU",
      "include_colab_link": true
    },
    "kernelspec": {
      "name": "python3",
      "display_name": "Python 3"
    },
    "accelerator": "GPU"
  },
  "cells": [
    {
      "cell_type": "markdown",
      "metadata": {
        "id": "view-in-github",
        "colab_type": "text"
      },
      "source": [
        "<a href=\"https://colab.research.google.com/github/upadhyayprakash/eva4/blob/master/S13/Assignments/Assignment-2/EVA4_Session_13_Assignment_2_YOLOv3_CustomDataset_Potholes.ipynb\" target=\"_parent\"><img src=\"https://colab.research.google.com/assets/colab-badge.svg\" alt=\"Open In Colab\"/></a>"
      ]
    },
    {
      "cell_type": "code",
      "metadata": {
        "id": "q4qDy03DBFd5",
        "colab_type": "code",
        "colab": {
          "base_uri": "https://localhost:8080/",
          "height": 34
        },
        "outputId": "ca7cce40-cf7b-4016-e7e4-d8dbed2dfa6e"
      },
      "source": [
        "from google.colab import drive\n",
        "drive.mount('/content/drive', force_remount=True) # Uncomment this when running using Colab Runtime"
      ],
      "execution_count": 11,
      "outputs": [
        {
          "output_type": "stream",
          "text": [
            "Mounted at /content/drive\n"
          ],
          "name": "stdout"
        }
      ]
    },
    {
      "cell_type": "code",
      "metadata": {
        "id": "rxC10a-TBpZQ",
        "colab_type": "code",
        "colab": {
          "base_uri": "https://localhost:8080/",
          "height": 34
        },
        "outputId": "3549e151-ae55-4278-ba20-6d4b75db6445"
      },
      "source": [
        "import time\n",
        "import glob\n",
        "import torch\n",
        "import os\n",
        "\n",
        "from IPython.display import Image, clear_output \n",
        "print('PyTorch %s %s' % (torch.__version__, torch.cuda.get_device_properties(0) if torch.cuda.is_available() else 'CPU'))"
      ],
      "execution_count": 12,
      "outputs": [
        {
          "output_type": "stream",
          "text": [
            "PyTorch 1.5.0+cu101 _CudaDeviceProperties(name='Tesla P100-PCIE-16GB', major=6, minor=0, total_memory=16280MB, multi_processor_count=56)\n"
          ],
          "name": "stdout"
        }
      ]
    },
    {
      "cell_type": "code",
      "metadata": {
        "id": "EMW6NlDRC3qZ",
        "colab_type": "code",
        "colab": {
          "base_uri": "https://localhost:8080/",
          "height": 102
        },
        "outputId": "1947076b-55be-469e-ffe3-1e75da13a308"
      },
      "source": [
        "# cd 'drive/My Drive/EVA4/Session-13/YoloV3'\n",
        "ls"
      ],
      "execution_count": 15,
      "outputs": [
        {
          "output_type": "stream",
          "text": [
            " \u001b[0m\u001b[01;34mannotation_tool\u001b[0m/   \u001b[01;34mout_out\u001b[0m/       results.png  'ubdivisions=1'\n",
            " \u001b[01;34mcfg\u001b[0m/               \u001b[01;34moutput\u001b[0m/        \u001b[01;34mruns\u001b[0m/         \u001b[01;34mutils\u001b[0m/\n",
            " \u001b[01;34mdata\u001b[0m/              \u001b[01;34m__pycache__\u001b[0m/   test.py       vim.exe.stackdump\n",
            " detect.py          README.md      ting          \u001b[01;34mweights\u001b[0m/\n",
            " models.py          results.json   train.py\n"
          ],
          "name": "stdout"
        }
      ]
    },
    {
      "cell_type": "code",
      "metadata": {
        "id": "Q2SyO2MnDUF3",
        "colab_type": "code",
        "colab": {
          "base_uri": "https://localhost:8080/",
          "height": 683
        },
        "outputId": "263bc992-8b31-4a8e-df44-03b663550e82"
      },
      "source": [
        "!python train.py --data data/smalcoco/smalcoco.data --batch 3 --cache --epochs 3 --nosave"
      ],
      "execution_count": 9,
      "outputs": [
        {
          "output_type": "stream",
          "text": [
            "Namespace(accumulate=4, adam=False, batch_size=3, bucket='', cache_images=True, cfg='cfg/yolov3-spp.cfg', data='data/smalcoco/smalcoco.data', device='', epochs=3, evolve=False, img_size=[512], multi_scale=False, name='', nosave=True, notest=False, rect=False, resume=False, single_cls=False, weights='weights/yolov3-spp-ultralytics.pt')\n",
            "Using CUDA device0 _CudaDeviceProperties(name='Tesla P100-PCIE-16GB', total_memory=16280MB)\n",
            "\n",
            "2020-05-02 06:22:59.791500: I tensorflow/stream_executor/platform/default/dso_loader.cc:44] Successfully opened dynamic library libcudart.so.10.1\n",
            "Run 'tensorboard --logdir=runs' to view tensorboard at http://localhost:6006/\n",
            "Model Summary: 225 layers, 6.29987e+07 parameters, 6.29987e+07 gradients\n",
            "  % Total    % Received % Xferd  Average Speed   Time    Time     Time  Current\n",
            "                                 Dload  Upload   Total   Spent    Left  Speed\n",
            "100   408    0   408    0     0   2701      0 --:--:-- --:--:-- --:--:--  2720\n",
            "  0     0    0     0    0     0      0      0 --:--:-- --:--:-- --:--:--     0\n",
            "  0     0    0     0    0     0      0      0 --:--:-- --:--:-- --:--:--     0\n",
            "100  240M    0  240M    0     0  61.2M      0 --:--:--  0:00:03 --:--:-- 72.8M\n",
            "Downloading https://drive.google.com/uc?export=download&id=1UcR-zVoMs7DH5dj3N1bswkiQTA4dmKF4 as weights/yolov3-spp-ultralytics.pt... Done (4.5s)\n",
            "Caching labels (20 found, 0 missing, 0 empty, 0 duplicate, for 20 images): 100% 20/20 [00:08<00:00,  2.28it/s]\n",
            "Caching images (0.0GB): 100% 20/20 [00:07<00:00,  2.80it/s]\n",
            "Caching labels (20 found, 0 missing, 0 empty, 0 duplicate, for 20 images): 100% 20/20 [00:00<00:00, 989.27it/s]\n",
            "Caching images (0.0GB): 100% 20/20 [00:00<00:00, 71.02it/s]\n",
            "Image sizes 512 - 512 train, 512 test\n",
            "Using 2 dataloader workers\n",
            "Starting training for 3 epochs...\n",
            "\n",
            "     Epoch   gpu_mem      GIoU       obj       cls     total   targets  img_size\n",
            "       0/2     3.06G      1.89      2.14     0.445      4.48        21       512: 100% 7/7 [00:06<00:00,  1.11it/s]\n",
            "               Class    Images   Targets         P         R   mAP@0.5        F1: 100% 7/7 [00:02<00:00,  2.88it/s]\n",
            "                 all        20       128     0.582     0.954     0.934     0.709\n",
            "\n",
            "     Epoch   gpu_mem      GIoU       obj       cls     total   targets  img_size\n",
            "       1/2     3.06G      1.69      1.57     0.613      3.88        18       512: 100% 7/7 [00:02<00:00,  2.98it/s]\n",
            "               Class    Images   Targets         P         R   mAP@0.5        F1: 100% 7/7 [00:00<00:00, 10.31it/s]\n",
            "                 all        20       128     0.577     0.968     0.945     0.709\n",
            "\n",
            "     Epoch   gpu_mem      GIoU       obj       cls     total   targets  img_size\n",
            "       2/2     3.06G      1.47      1.39     0.498      3.36         9       512: 100% 7/7 [00:02<00:00,  2.98it/s]\n",
            "               Class    Images   Targets         P         R   mAP@0.5        F1: 100% 7/7 [00:00<00:00,  9.97it/s]\n",
            "                 all        20       128     0.571     0.968     0.945     0.704\n",
            "Speed: 17.2/1.9/19.1 ms inference/NMS/total per 512x512 image at batch-size 3\n",
            "3 epochs completed in 0.005 hours.\n",
            "\n"
          ],
          "name": "stdout"
        }
      ]
    },
    {
      "cell_type": "code",
      "metadata": {
        "id": "7kDoDTTdeXQT",
        "colab_type": "code",
        "colab": {
          "base_uri": "https://localhost:8080/",
          "height": 1000
        },
        "outputId": "497f365b-81a8-4cc4-c317-ad95f0a0e734"
      },
      "source": [
        "!python train.py --data data/customdata/custom.data --batch 10 --cache --cfg cfg/yolov3-custom.cfg --epochs 220"
      ],
      "execution_count": 19,
      "outputs": [
        {
          "output_type": "stream",
          "text": [
            "Namespace(accumulate=4, adam=False, batch_size=10, bucket='', cache_images=True, cfg='cfg/yolov3-custom.cfg', data='data/customdata/custom.data', device='', epochs=220, evolve=False, img_size=[512], multi_scale=False, name='', nosave=False, notest=False, rect=False, resume=False, single_cls=False, weights='weights/yolov3-spp-ultralytics.pt')\n",
            "Using CUDA device0 _CudaDeviceProperties(name='Tesla P100-PCIE-16GB', total_memory=16280MB)\n",
            "\n",
            "2020-05-02 08:59:29.370716: I tensorflow/stream_executor/platform/default/dso_loader.cc:44] Successfully opened dynamic library libcudart.so.10.1\n",
            "Run 'tensorboard --logdir=runs' to view tensorboard at http://localhost:6006/\n",
            "Model Summary: 225 layers, 6.25733e+07 parameters, 6.25733e+07 gradients\n",
            "Caching labels (198 found, 0 missing, 0 empty, 0 duplicate, for 198 images): 100% 198/198 [01:32<00:00,  2.13it/s]\n",
            "Caching images (0.1GB): 100% 198/198 [01:40<00:00,  1.96it/s]\n",
            "Reading image shapes: 100% 198/198 [00:00<00:00, 1080.05it/s]\n",
            "Caching labels (198 found, 0 missing, 0 empty, 0 duplicate, for 198 images): 100% 198/198 [00:00<00:00, 1042.61it/s]\n",
            "Caching images (0.0GB): 100% 198/198 [00:00<00:00, 385.91it/s]\n",
            "Image sizes 512 - 512 train, 512 test\n",
            "Using 2 dataloader workers\n",
            "Starting training for 220 epochs...\n",
            "\n",
            "     Epoch   gpu_mem      GIoU       obj       cls     total   targets  img_size\n",
            "     0/219     7.38G      6.78      4.51         0      11.3        13       512: 100% 20/20 [00:16<00:00,  1.21it/s]\n",
            "               Class    Images   Targets         P         R   mAP@0.5        F1: 100% 20/20 [00:08<00:00,  2.39it/s]\n",
            "                 all       198       254         0         0  0.000786         0\n",
            "\n",
            "     Epoch   gpu_mem      GIoU       obj       cls     total   targets  img_size\n",
            "     1/219     16.1G      6.61      3.47         0      10.1        18       512: 100% 20/20 [00:13<00:00,  1.43it/s]\n",
            "               Class    Images   Targets         P         R   mAP@0.5        F1: 100% 20/20 [00:07<00:00,  2.61it/s]\n",
            "                 all       198       254         0         0   0.00106         0\n",
            "\n",
            "     Epoch   gpu_mem      GIoU       obj       cls     total   targets  img_size\n",
            "     2/219     7.24G      5.38      2.71         0      8.09        15       512: 100% 20/20 [00:13<00:00,  1.43it/s]\n",
            "               Class    Images   Targets         P         R   mAP@0.5        F1: 100% 20/20 [00:07<00:00,  2.69it/s]\n",
            "                 all       198       254         0         0   0.00185         0\n",
            "\n",
            "     Epoch   gpu_mem      GIoU       obj       cls     total   targets  img_size\n",
            "     3/219     7.24G      4.87      2.62         0      7.49        20       512: 100% 20/20 [00:13<00:00,  1.43it/s]\n",
            "               Class    Images   Targets         P         R   mAP@0.5        F1: 100% 20/20 [00:05<00:00,  3.55it/s]\n",
            "                 all       198       254         0         0   0.00959         0\n",
            "220 epochs completed in 1.205 hours.\n",
            "\n"
          ],
          "name": "stdout"
        }
      ]
    },
    {
      "cell_type": "code",
      "metadata": {
        "id": "_hwo3PWNmaMA",
        "colab_type": "code",
        "colab": {
          "base_uri": "https://localhost:8080/",
          "height": 1000
        },
        "outputId": "aa9bccea-1c20-437b-8cdf-49042cbc5648"
      },
      "source": [
        "!python detect.py --conf-thres 0.1 --output video_output --source video_input/potholes_video.mp4"
      ],
      "execution_count": 21,
      "outputs": [
        {
          "output_type": "stream",
          "text": [
            "Namespace(agnostic_nms=False, augment=False, cfg='cfg/yolov3-custom.cfg', classes=None, conf_thres=0.1, device='', fourcc='mp4v', half=False, img_size=512, iou_thres=0.6, names='data/customdata/custom.names', output='video_output', save_txt=False, source='video_input/potholes_video.mp4', view_img=False, weights='weights/best.pt')\n",
            "Using CUDA device0 _CudaDeviceProperties(name='Tesla P100-PCIE-16GB', total_memory=16280MB)\n",
            "\n",
            "Model Summary: 225 layers, 6.25733e+07 parameters, 6.25733e+07 gradients\n",
            "video 1/1 (1/3085) video_input/potholes_video.mp4: 320x512 Done. (0.016s)\n",
            "video 1/1 (2/3085) video_input/potholes_video.mp4: 320x512 1 potholes, Done. (0.016s)\n",
            "video 1/1 (3/3085) video_input/potholes_video.mp4: 320x512 1 potholes, Done. (0.016s)\n",
            "video 1/1 (4/3085) video_input/potholes_video.mp4: 320x512 Done. (0.016s)\n",
            "video 1/1 (5/3085) video_input/potholes_video.mp4: 320x512 1 potholes, Done. (0.016s)\n",
            "video 1/1 (6/3085) video_input/potholes_video.mp4: 320x512 1 potholes, Done. (0.016s)\n",
            "video 1/1 (7/3085) video_input/potholes_video.mp4: 320x512 1 potholes, Done. (0.015s)\n",
            "video 1/1 (8/3085) video_input/potholes_video.mp4: 320x512 1 potholes, Done. (0.015s)\n",
            "video 1/1 (9/3085) video_input/potholes_video.mp4: 320x512 1 potholes, Done. (0.015s)\n",
            "video 1/1 (10/3085) video_input/potholes_video.mp4: 320x512 1 potholes, Done. (0.015s)\n",
            "video 1/1 (11/3085) video_input/potholes_video.mp4: 320x512 1 potholes, Done. (0.015s)\n",
            "video 1/1 (12/3085) video_input/potholes_video.mp4: 320x512 1 potholes, Done. (0.015s)\n",
            "video 1/1 (13/3085) video_input/potholes_video.mp4: 320x512 1 potholes, Done. (0.015s)\n",
            "video 1/1 (14/3085) video_input/potholes_video.mp4: 320x512 1 potholes, Done. (0.015s)\n",
            "video 1/1 (15/3085) video_input/potholes_video.mp4: 320x512 1 potholes, Done. (0.015s)\n",
            "video 1/1 (16/3085) video_input/potholes_video.mp4: 320x512 1 potholes, Done. (0.015s)\n",
            "Results saved to /content/drive/My Drive/EVA4/Session-13/YoloV3/video_output\n",
            "Done. (87.152s)\n"
          ],
          "name": "stdout"
        }
      ]
    },
    {
      "cell_type": "code",
      "metadata": {
        "id": "18QQIy0kDzaA",
        "colab_type": "code",
        "colab": {
          "base_uri": "https://localhost:8080/",
          "height": 1000
        },
        "outputId": "3bfab1ba-7ad7-485d-e721-7096f49e381a"
      },
      "source": [
        "!python detect.py --conf-thres 0.1 --output out_out"
      ],
      "execution_count": 20,
      "outputs": [
        {
          "output_type": "stream",
          "text": [
            "Namespace(agnostic_nms=False, augment=False, cfg='cfg/yolov3-custom.cfg', classes=None, conf_thres=0.1, device='', fourcc='mp4v', half=False, img_size=512, iou_thres=0.6, names='data/customdata/custom.names', output='out_out', save_txt=False, source='data/customdata/images', view_img=False, weights='weights/best.pt')\n",
            "Using CUDA device0 _CudaDeviceProperties(name='Tesla P100-PCIE-16GB', total_memory=16280MB)\n",
            "\n",
            "Model Summary: 225 layers, 6.25733e+07 parameters, 6.25733e+07 gradients\n",
            "image 1/198 data/customdata/images/image_1.jpg: 512x512 1 potholes, Done. (0.019s)\n",
            "image 2/198 data/customdata/images/image_10.jpg: 320x512 1 potholes, Done. (0.015s)\n",
            "image 3/198 data/customdata/images/image_100.jpg: 384x512 2 potholes, Done. (0.016s)\n",
            "image 4/198 data/customdata/images/image_101.jpg: 384x512 4 potholes, Done. (0.016s)\n",
            "image 5/198 data/customdata/images/image_102.jpg: 512x384 1 potholes, Done. (0.017s)\n",
            "image 6/198 data/customdata/images/image_103.jpg: 320x512 1 potholes, Done. (0.015s)\n",
            "image 7/198 data/customdata/images/image_104.jpg: 384x512 1 potholes, Done. (0.016s)\n",
            "image 8/198 data/customdata/images/image_105.jpg: 320x512 1 potholes, Done. (0.015s)\n",
            "image 9/198 data/customdata/images/image_106.jpg: 320x512 2 potholes, Done. (0.015s)\n",
            "Results saved to /content/drive/My Drive/EVA4/Session-13/YoloV3/out_out\n",
            "Done. (6.699s)\n"
          ],
          "name": "stdout"
        }
      ]
    }
  ]
}